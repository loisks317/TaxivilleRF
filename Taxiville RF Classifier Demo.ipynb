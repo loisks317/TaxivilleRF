{
 "cells": [
  {
   "cell_type": "markdown",
   "metadata": {},
   "source": [
    "## What makes a good Random Forest Classifier Column\n",
    "\n",
    "By Lois Keller Smith, July 2017\n",
    "\n",
    "\n",
    "AKA Learning to speak machine\n",
    "\n",
    "When I was first learning how to work with Random Forests, I thought throwing everything at them, ranking the features, and then removing bad features was the way to build a good model. Well, that was true... it will build a 'good' model, but if you want a great model, you need to be smart about your features.\n",
    "\n",
    "This is a quick demo on just how trying to speak more along the lines of Random Forest (RF) Classifier will obtain better results. In looking to split things, RF Classifiers prefer data columns that also split cleanly. \n",
    "\n",
    "### The problem\n",
    "\n",
    "You're trying to identify how likely citizens of Taxiville will get picked up within 5 minutes of calling a taxi. Of course, the center of Taxiville, at Latitude 42, Longitude 144, is a taxi dispatch center! How convenient! \n",
    "\n",
    "Your hypotheiss is that the closer you are to Taxiville's center, the more likely you'll be picked up in 5 minutes. Your boss asks you to build a model that accounts for this based on 50,000 previous taxi pickups (we make up the data, but assume it's real!). \n",
    "\n",
    "We're going to build a Random Forest Classifier that is, honestly, a terrible model because we only have latitude/longitude information. But let's see if we can make it better.. \n",
    "\n"
   ]
  },
  {
   "cell_type": "code",
   "execution_count": 320,
   "metadata": {},
   "outputs": [],
   "source": [
    "# First, import some modules we'll need for this exericse. Make sure you have matplotlib, numpy, pandas, and sklearn \n",
    "# installed prior \n",
    "# standard imports \n",
    "import numpy as np\n",
    "import pandas as pd\n",
    "from sklearn.ensemble import RandomForestClassifier\n",
    "import random\n",
    "from sklearn.model_selection import train_test_split\n",
    "from sklearn import metrics\n",
    "import matplotlib.pyplot as plt\n"
   ]
  },
  {
   "cell_type": "markdown",
   "metadata": {},
   "source": [
    "We will start by generating our own data. You're welcome to play around with this, but they 'key' feature is that the probability of getting picked up within 5 minutes is an exponential distance function of radial distance away from Taxiville center. So the farther away you are, the less likely you will be picked up in 5 minutes. When you're building your model in real life, however, you wouldn't know this ;) "
   ]
  },
  {
   "cell_type": "code",
   "execution_count": 322,
   "metadata": {},
   "outputs": [],
   "source": [
    "# generate random data\n",
    "# we know the city center at 42.0 degrees latitude and 144.0 degrees longitude. This is where 'the most' traffic occurs\n",
    "# the city bounds are at 41.9 degrees and 42.2 degrees latitude and \n",
    "# 143.8 degrees and 144.1 degrees longitude \n",
    "# thus, a taxi cab is most likely to pick up here \n",
    "\n",
    "# create random data list\n",
    "lats=[random.uniform(41, 43) for i in range(50000)]\n",
    "lons=[random.uniform(143, 145) for i in range(50000)]\n"
   ]
  },
  {
   "cell_type": "markdown",
   "metadata": {},
   "source": [
    "We are going to engineer our own feature. Since latitude and longitude vary both positively and negatively around the center point, it isn't a linearly increasing variable (+0.1 and -0.1 latitude are the same distance away). Linearly increasing or decreasing variables are the easier for RF Classifiers to split on (look up the Gini Importance if you want to know more about how RF models make their splits: https://www.stat.berkeley.edu/~breiman/RandomForests/cc_home.htm#giniimp"
   ]
  },
  {
   "cell_type": "code",
   "execution_count": 324,
   "metadata": {},
   "outputs": [
    {
     "name": "stdout",
     "output_type": "stream",
     "text": [
      "number of taxis within 5 minutes: 12800\n",
      "number of taxis not within 5 mintues: 37200\n"
     ]
    },
    {
     "data": {
      "text/html": [
       "<div>\n",
       "<table border=\"1\" class=\"dataframe\">\n",
       "  <thead>\n",
       "    <tr style=\"text-align: right;\">\n",
       "      <th></th>\n",
       "      <th>Lat</th>\n",
       "      <th>Lon</th>\n",
       "      <th>R</th>\n",
       "      <th>TaxiResult</th>\n",
       "    </tr>\n",
       "  </thead>\n",
       "  <tbody>\n",
       "    <tr>\n",
       "      <th>0</th>\n",
       "      <td>41.814408</td>\n",
       "      <td>144.568227</td>\n",
       "      <td>0.597768</td>\n",
       "      <td>1</td>\n",
       "    </tr>\n",
       "    <tr>\n",
       "      <th>1</th>\n",
       "      <td>41.757670</td>\n",
       "      <td>144.918665</td>\n",
       "      <td>0.950089</td>\n",
       "      <td>0</td>\n",
       "    </tr>\n",
       "    <tr>\n",
       "      <th>2</th>\n",
       "      <td>41.729716</td>\n",
       "      <td>143.072913</td>\n",
       "      <td>0.965683</td>\n",
       "      <td>0</td>\n",
       "    </tr>\n",
       "    <tr>\n",
       "      <th>3</th>\n",
       "      <td>41.289311</td>\n",
       "      <td>143.747219</td>\n",
       "      <td>0.754306</td>\n",
       "      <td>1</td>\n",
       "    </tr>\n",
       "    <tr>\n",
       "      <th>4</th>\n",
       "      <td>41.482865</td>\n",
       "      <td>144.901304</td>\n",
       "      <td>1.039124</td>\n",
       "      <td>0</td>\n",
       "    </tr>\n",
       "    <tr>\n",
       "      <th>5</th>\n",
       "      <td>42.098892</td>\n",
       "      <td>144.657687</td>\n",
       "      <td>0.665081</td>\n",
       "      <td>0</td>\n",
       "    </tr>\n",
       "    <tr>\n",
       "      <th>6</th>\n",
       "      <td>42.451064</td>\n",
       "      <td>143.377503</td>\n",
       "      <td>0.768740</td>\n",
       "      <td>1</td>\n",
       "    </tr>\n",
       "    <tr>\n",
       "      <th>7</th>\n",
       "      <td>42.589309</td>\n",
       "      <td>143.040082</td>\n",
       "      <td>1.126378</td>\n",
       "      <td>0</td>\n",
       "    </tr>\n",
       "    <tr>\n",
       "      <th>8</th>\n",
       "      <td>41.039276</td>\n",
       "      <td>144.067610</td>\n",
       "      <td>0.963100</td>\n",
       "      <td>0</td>\n",
       "    </tr>\n",
       "    <tr>\n",
       "      <th>9</th>\n",
       "      <td>41.798062</td>\n",
       "      <td>143.240443</td>\n",
       "      <td>0.785942</td>\n",
       "      <td>0</td>\n",
       "    </tr>\n",
       "  </tbody>\n",
       "</table>\n",
       "</div>"
      ],
      "text/plain": [
       "         Lat         Lon         R  TaxiResult\n",
       "0  41.814408  144.568227  0.597768           1\n",
       "1  41.757670  144.918665  0.950089           0\n",
       "2  41.729716  143.072913  0.965683           0\n",
       "3  41.289311  143.747219  0.754306           1\n",
       "4  41.482865  144.901304  1.039124           0\n",
       "5  42.098892  144.657687  0.665081           0\n",
       "6  42.451064  143.377503  0.768740           1\n",
       "7  42.589309  143.040082  1.126378           0\n",
       "8  41.039276  144.067610  0.963100           0\n",
       "9  41.798062  143.240443  0.785942           0"
      ]
     },
     "execution_count": 324,
     "metadata": {},
     "output_type": "execute_result"
    }
   ],
   "source": [
    "# get the radial distance - using a^2 + b^2 = c^2  \n",
    "r = [np.sqrt((lats[i] - 42.0)**2  + (lons[i] - 144.0)**2) for i in range(50000)]\n",
    "r2=np.array(r)\n",
    "\n",
    "# taxi pick up time is based on probability determined by exponential decay with radial distance \n",
    "# we use probabilities in order to add some variability to the data, making it more challenging for our model \n",
    "# to succeed\n",
    "taxiResult= [ np.random.choice([0,1], p=[1.- np.exp(-1.0*(2*r2[j])),np.exp(-1.0*(2*r2[j]))]) for j in range(50000)]\n",
    "tR=np.array(taxiResult)\n",
    "print('number of taxis within 5 minutes: '+str(len(tR[tR==1])))\n",
    "print('number of taxis not within 5 mintues: '+str(len(tR[tR==0])))\n",
    "\n",
    "# now turn into a data frame for modeling \n",
    "df=pd.DataFrame({'Lat':lats, 'Lon':lons, 'R':r, 'TaxiResult':taxiResult})\n",
    "df.head(10)\n"
   ]
  },
  {
   "cell_type": "markdown",
   "metadata": {},
   "source": [
    "We want to add ONE more feature - we're going to make a yes/no feature called closeness. We we run the script below, we see that even though 'picked up' (blue) is common below a radial distance of 1.3, many 'not picked up's (green) exist in this range too. We find that at approximately r < 0.3 we're more likely to be picked up than not, so we choose that too define closeness. "
   ]
  },
  {
   "cell_type": "code",
   "execution_count": 325,
   "metadata": {},
   "outputs": [
    {
     "data": {
      "image/png": "[encoded data removed]",
      "text/plain": [
       "<matplotlib.figure.Figure at 0x105367b50>"
      ]
     },
     "metadata": {},
     "output_type": "display_data"
    },
    {
     "data": {
      "text/plain": [
       "<matplotlib.figure.Figure at 0x1084f6150>"
      ]
     },
     "metadata": {},
     "output_type": "display_data"
    }
   ],
   "source": [
    "%matplotlib inline\n",
    "\n",
    "# we are going to create a closeness variable to predict with \n",
    "closeness=np.zeros(50000)\n",
    "\n",
    "# first, we need to figure out where our probability of getting picked up within 5 minutes is highest. \n",
    "# we are going to overplot the 'yes' (picked up) as blue and the 'no' (not picked up) as green. \n",
    "fig=plt.figure()\n",
    "plt.hist(r2[tR==1], bins=np.linspace(0, 2, 50), alpha=0.3, color='blue')\n",
    "plt.hist(r2[tR==0], bins=np.linspace(0, 2, 50), alpha=0.3, color='green')\n",
    "fig=plt.figure()\n",
    "plt.show()\n",
    "\n",
    "closeness[r2<0.3]=1\n",
    "closeness[r2>=0.3]=0\n",
    "df['closeness']=closeness\n",
    "cdf=r2[tR==1]\n"
   ]
  },
  {
   "cell_type": "markdown",
   "metadata": {},
   "source": [
    "Let's see which one does best in the Random Forest Classifier!"
   ]
  },
  {
   "cell_type": "code",
   "execution_count": 326,
   "metadata": {},
   "outputs": [
    {
     "name": "stdout",
     "output_type": "stream",
     "text": [
      "r2 for Lat/Lon: -0.398422928542\n",
      "r2 for R: -0.642558662161\n",
      "r2 for Closeness: -0.22277966408\n",
      "Confusion Matrix for Lat/Lon: [[8366  936]\n",
      " [2392  806]]\n",
      "Confusion Matrix for R: [[7524 1778]\n",
      " [2131 1067]]\n",
      "Confusion Matrix for Closeness: [[9016  286]\n",
      " [2624  574]]\n",
      "Accuracy Score for Lat/Lon: 0.73376\n",
      "Accuracy Score for R: 0.68728\n",
      "Accuracy Score for Closeness: 0.7672\n"
     ]
    }
   ],
   "source": [
    "# great now apply random forest classifier\n",
    "train, test = train_test_split(df, test_size = 0.25,random_state=2)\n",
    "#\n",
    "# test success of models using different features\n",
    "features_ll=['Lat', 'Lon']\n",
    "features_r=['R']\n",
    "features_cn=['closeness']\n",
    "\n",
    "# set up the classifier, no special features here \n",
    "clf_ll=RandomForestClassifier()\n",
    "clf_r=RandomForestClassifier()\n",
    "clf_cn=RandomForestClassifier()\n",
    "\n",
    "# train the model \n",
    "clf_ll.fit(train[features_ll], train['TaxiResult'])\n",
    "clf_r.fit(train[features_r], train['TaxiResult'])\n",
    "clf_cn.fit(train[features_cn], train['TaxiResult'])\n",
    "\n",
    "# make a prediction\n",
    "predict_ll=clf_ll.predict(test[features_ll])\n",
    "predict_r=clf_r.predict(test[features_r])\n",
    "predict_cn=clf_cn.predict(test[features_cn])\n",
    "\n",
    "# score with r^2, it's going to be ugly here \n",
    "r2_ll=metrics.r2_score(test['TaxiResult'], predict_ll)\n",
    "r2_r=metrics.r2_score(test['TaxiResult'], predict_r)\n",
    "r2_cn=metrics.r2_score(test['TaxiResult'], predict_cn)\n",
    "\n",
    "# score with confusion matrix. From top row across, it goes true positive, false positive, \n",
    "# false negative, true negative\n",
    "c_ll=metrics.confusion_matrix(test['TaxiResult'], predict_ll)\n",
    "c_r=metrics.confusion_matrix(test['TaxiResult'], predict_r)\n",
    "c_cn=metrics.confusion_matrix(test['TaxiResult'], predict_cn)\n",
    "\n",
    "\n",
    "print('r2 for Lat/Lon: '+str(r2_ll))\n",
    "print('r2 for R: '+str(r2_r))\n",
    "print('r2 for Closeness: '+str(r2_cn))\n",
    "\n",
    "print('Confusion Matrix for Lat/Lon: '+str(c_ll))\n",
    "print('Confusion Matrix for R: '+str(c_r))\n",
    "print('Confusion Matrix for Closeness: '+str(c_cn))\n",
    "\n",
    "# print out the accuracy (how many successful hits)\n",
    "print('Accuracy Score for Lat/Lon: '+ str(metrics.accuracy_score(test['TaxiResult'], predict_ll)))\n",
    "print('Accuracy Score for R: '+ str(metrics.accuracy_score(test['TaxiResult'], predict_r)))\n",
    "print('Accuracy Score for Closeness: '+ str(metrics.accuracy_score(test['TaxiResult'], predict_cn)))                                        \n",
    "                            "
   ]
  },
  {
   "cell_type": "markdown",
   "metadata": {},
   "source": [
    "### Result: Closeness is best for accuracy followed by Lat/Lon and then radial distance\n",
    "\n",
    "Explanation:\n",
    "\n",
    "(1) Being frank, Random Forest is probably not the best way to go for a probability based model. Check out Naive Bayes. \n",
    "\n",
    "(2) Lat/Lon performed better than radial distance (R) even though we know the model is directly based on R. Why? Some of this is because more columns help a RF model make splits. More features usually is a good thing in a Random Forest model, especially if the features are adding more information (which they are here). This model might be even stronger if certain lat/lon combinations are prone to high traffic points. \n",
    "\n",
    "(3) Because we looked at the data and made a smart decision about how to feed the RF Classifier information, it handled 'Closeness' the best. Think about your features!! \n",
    "\n",
    "Note: the accuracy for this model is pretty bad. But considering it's only based on 1-2 features, we're doing OK. \n",
    "\n",
    "See if you can engineer this problem further or play around by adding time stamps and a rush hour!"
   ]
  }
 ],
 "metadata": {
  "kernelspec": {
   "display_name": "Python 2",
   "language": "python",
   "name": "python2"
  },
  "language_info": {
   "codemirror_mode": {
    "name": "ipython",
    "version": 2
   },
   "file_extension": ".py",
   "mimetype": "text/x-python",
   "name": "python",
   "nbconvert_exporter": "python",
   "pygments_lexer": "ipython2",
   "version": "2.7.10"
  }
 },
 "nbformat": 4,
 "nbformat_minor": 2
}
